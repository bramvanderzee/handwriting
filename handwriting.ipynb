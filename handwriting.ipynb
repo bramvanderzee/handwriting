{
 "cells": [
  {
   "cell_type": "markdown",
   "metadata": {},
   "source": [
    "# Handwriting recognition\n",
    "\n",
    "In this notebook I want to describe the process of having a machine learn to read handwriting.\n",
    "\n",
    "## Dataset\n",
    "The dataset [found here](https://www.kaggle.com/datasets/landlord/handwriting-recognition) consists of first and last names written by people, collected through charity projects."
   ]
  },
  {
   "cell_type": "code",
   "execution_count": 3,
   "metadata": {},
   "outputs": [],
   "source": [
    "import numpy as np\n",
    "import pandas as pd\n",
    "import seaborn as sns\n",
    "import cv2\n",
    "from sklearn import *\n",
    "\n",
    "class_names = [chr(c) for c in range(ord('A'), ord('Z'))]\n",
    "class_names.extend([chr(c) for c in range(ord('a'), ord('z'))])\n",
    "class_names.extend([chr(c) for c in range(ord('0'), ord('9'))])"
   ]
  }
 ],
 "metadata": {
  "kernelspec": {
   "display_name": "Python 3 (ipykernel)",
   "language": "python",
   "name": "python3"
  },
  "language_info": {
   "codemirror_mode": {
    "name": "ipython",
    "version": 3
   },
   "file_extension": ".py",
   "mimetype": "text/x-python",
   "name": "python",
   "nbconvert_exporter": "python",
   "pygments_lexer": "ipython3",
   "version": "3.8.10"
  }
 },
 "nbformat": 4,
 "nbformat_minor": 2
}
