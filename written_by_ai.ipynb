{
 "cells": [
  {
   "cell_type": "code",
   "execution_count": 3,
   "id": "ab1d7c04",
   "metadata": {},
   "outputs": [
    {
     "name": "stdout",
     "output_type": "stream",
     "text": [
      "Trial 10 Complete [00h 01m 21s]\n",
      "val_accuracy: 0.9690999984741211\n",
      "\n",
      "Best val_accuracy So Far: 0.9890999794006348\n",
      "Total elapsed time: 00h 12m 02s\n",
      "INFO:tensorflow:Oracle triggered exit\n",
      "313/313 [==============================] - 1s 4ms/step - loss: 0.0380 - accuracy: 0.9891\n",
      "Test accuracy: 0.9890999794006348\n"
     ]
    }
   ],
   "source": [
    "# Written by chatgpt\n",
    "!pip3 install keras-tuner\n",
    "\n",
    "import tensorflow as tf\n",
    "from tensorflow import keras\n",
    "from tensorflow.keras import layers\n",
    "from kerastuner.tuners import RandomSearch\n",
    "\n",
    "# Load the MNIST dataset\n",
    "mnist = keras.datasets.mnist\n",
    "(x_train, y_train), (x_test, y_test) = mnist.load_data()\n",
    "\n",
    "# Normalize pixel values to be between 0 and 1\n",
    "x_train, x_test = x_train / 255.0, x_test / 255.0\n",
    "\n",
    "# Reshape the images to be 28 x 28 x 1 (as they are grayscale)\n",
    "x_train = x_train.reshape(x_train.shape[0], 28, 28, 1)\n",
    "x_test = x_test.reshape(x_test.shape[0], 28, 28, 1)\n",
    "\n",
    "# Define the model builder function\n",
    "def build_model(hp):\n",
    "  model = keras.Sequential()\n",
    "\n",
    "  # Tune the number of filters in the first convolutional layer\n",
    "  hp_filters = hp.Int('filters', min_value=16, max_value=64, step=16)\n",
    "  model.add(layers.Conv2D(hp_filters, kernel_size=3, activation='relu', input_shape=(28, 28, 1)))\n",
    "\n",
    "  # Tune the number of filters and kernel size in subsequent convolutional layers\n",
    "  for i in range(hp.Int('num_layers', 1, 3)):\n",
    "    model.add(layers.Conv2D(hp.Int(f'filters_{i}', min_value=16, max_value=64, step=16),\n",
    "                            kernel_size=hp.Choice(f'kernel_size_{i}', values=[3, 5]), activation='relu'))\n",
    "    model.add(layers.MaxPooling2D(pool_size=2))\n",
    "\n",
    "  model.add(layers.Flatten())\n",
    "\n",
    "  # Tune the number of units in the dense layer\n",
    "  hp_units = hp.Int('units', min_value=32, max_value=128, step=32)\n",
    "  model.add(layers.Dense(units=hp_units, activation='relu'))\n",
    "\n",
    "  model.add(layers.Dense(10, activation='softmax'))\n",
    "  \n",
    "  # Tune the learning rate\n",
    "  hp_learning_rate = hp.Choice('learning_rate', values=[1e-2, 1e-3, 1e-4])\n",
    "\n",
    "  model.compile(optimizer=keras.optimizers.Adam(learning_rate=hp_learning_rate),\n",
    "                loss='sparse_categorical_crossentropy', metrics=['accuracy'])\n",
    "\n",
    "  return model\n",
    "\n",
    "# Define the Keras Tuner RandomSearch object\n",
    "tuner = RandomSearch(\n",
    "    build_model,\n",
    "    objective='val_accuracy',\n",
    "    max_trials=10,\n",
    "    directory='tuner_dir',\n",
    "    project_name='mnist_tuner')\n",
    "\n",
    "# Perform hyperparameter tuning\n",
    "tuner.search(x_train, y_train, epochs=5, validation_data=(x_test, y_test))\n",
    "\n",
    "# Get the best model and evaluate it on the test set\n",
    "best_model = tuner.get_best_models(num_models=1)[0]\n",
    "test_loss, test_acc = best_model.evaluate(x_test, y_test)\n",
    "print('Test accuracy:', test_acc)\n"
   ]
  },
  {
   "cell_type": "code",
   "execution_count": null,
   "id": "53ee476e",
   "metadata": {},
   "outputs": [],
   "source": []
  }
 ],
 "metadata": {
  "kernelspec": {
   "display_name": "Python 3 (ipykernel)",
   "language": "python",
   "name": "python3"
  },
  "language_info": {
   "codemirror_mode": {
    "name": "ipython",
    "version": 3
   },
   "file_extension": ".py",
   "mimetype": "text/x-python",
   "name": "python",
   "nbconvert_exporter": "python",
   "pygments_lexer": "ipython3",
   "version": "3.8.10"
  }
 },
 "nbformat": 4,
 "nbformat_minor": 5
}
